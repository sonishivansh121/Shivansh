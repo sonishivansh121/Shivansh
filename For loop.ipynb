{
 "cells": [
  {
   "cell_type": "code",
   "execution_count": 7,
   "id": "8afb4b28-e3c8-4eb3-abd6-c87ba5032695",
   "metadata": {},
   "outputs": [],
   "source": [
    "l = [1,2,3,4,5]"
   ]
  },
  {
   "cell_type": "code",
   "execution_count": 8,
   "id": "a6398781-66f1-4cb6-a5ab-73845779c6d2",
   "metadata": {},
   "outputs": [
    {
     "name": "stdout",
     "output_type": "stream",
     "text": [
      "1\n",
      "2\n",
      "3\n",
      "4\n",
      "5\n"
     ]
    }
   ],
   "source": [
    "for i in l :\n",
    "    print(i)"
   ]
  },
  {
   "cell_type": "code",
   "execution_count": 9,
   "id": "f497e415-f048-46fa-b28d-6ec20ad27ad6",
   "metadata": {},
   "outputs": [
    {
     "data": {
      "text/plain": [
       "int"
      ]
     },
     "execution_count": 9,
     "metadata": {},
     "output_type": "execute_result"
    }
   ],
   "source": [
    "type(i)"
   ]
  },
  {
   "cell_type": "code",
   "execution_count": 10,
   "id": "f9d678f6-af84-4895-8f30-ca19fb3fdf65",
   "metadata": {},
   "outputs": [],
   "source": [
    "l1 = [\"shiv\", \"kumar\" ,\"krish\", \"naik\"]"
   ]
  },
  {
   "cell_type": "code",
   "execution_count": 11,
   "id": "5f20aa6b-877d-4335-b2b8-d9cead2083fb",
   "metadata": {},
   "outputs": [
    {
     "name": "stdout",
     "output_type": "stream",
     "text": [
      "shiv\n",
      "kumar\n",
      "krish\n",
      "naik\n"
     ]
    }
   ],
   "source": [
    "for i in l1:\n",
    "    print(i)"
   ]
  },
  {
   "cell_type": "code",
   "execution_count": 12,
   "id": "c8141689-7ff8-4dd4-b342-f5e47c71acad",
   "metadata": {},
   "outputs": [
    {
     "name": "stdout",
     "output_type": "stream",
     "text": [
      "shiv\n",
      "kumar\n",
      "krish\n",
      "naik\n",
      " if for loop is able to complete itself then only else will execute\n"
     ]
    }
   ],
   "source": [
    "for i in l1:\n",
    "    print(i)\n",
    "else :\n",
    "    print (\" if for loop is able to complete itself then only else will execute\")"
   ]
  },
  {
   "cell_type": "code",
   "execution_count": 13,
   "id": "0b4709a0-3386-490f-a22c-82c1c6304b30",
   "metadata": {},
   "outputs": [
    {
     "name": "stdout",
     "output_type": "stream",
     "text": [
      "shiv\n"
     ]
    }
   ],
   "source": [
    "for i in l1:\n",
    "    if i == \"kumar\":\n",
    "        break\n",
    "    print(i) "
   ]
  },
  {
   "cell_type": "code",
   "execution_count": 14,
   "id": "40c8f5bd-cf0d-4235-b6c4-115bd87f328c",
   "metadata": {},
   "outputs": [
    {
     "data": {
      "text/plain": [
       "['shiv', 'kumar', 'krish', 'naik']"
      ]
     },
     "execution_count": 14,
     "metadata": {},
     "output_type": "execute_result"
    }
   ],
   "source": [
    "l1"
   ]
  },
  {
   "cell_type": "code",
   "execution_count": 15,
   "id": "993a0ded-6551-4e5b-88f3-ffbda63a6147",
   "metadata": {},
   "outputs": [
    {
     "name": "stdout",
     "output_type": "stream",
     "text": [
      "shiv\n"
     ]
    }
   ],
   "source": [
    "for i in l1:\n",
    "    if i == \"kumar\":\n",
    "        break\n",
    "    print(i)\n",
    "else:\n",
    "    print(\"exvute this if for loop is able to complete it self\")"
   ]
  },
  {
   "cell_type": "code",
   "execution_count": 16,
   "id": "890765c4-651d-42a0-89c2-48b6a38a304f",
   "metadata": {},
   "outputs": [
    {
     "name": "stdout",
     "output_type": "stream",
     "text": [
      "shiv\n",
      "krish\n",
      "naik\n"
     ]
    }
   ],
   "source": [
    "for i in l1:\n",
    "    if i == \"kumar\":\n",
    "        continue\n",
    "    print(i)"
   ]
  },
  {
   "cell_type": "code",
   "execution_count": 17,
   "id": "af1edcd8-0083-4727-915f-01cdc61af94d",
   "metadata": {},
   "outputs": [
    {
     "name": "stdout",
     "output_type": "stream",
     "text": [
      "shiv\n",
      "krish\n",
      "naik\n",
      "exvute this if for loop is able to complete it self\n"
     ]
    }
   ],
   "source": [
    "for i in l1:\n",
    "    if i == \"kumar\":\n",
    "        continue\n",
    "    print(i) \n",
    "else:\n",
    "    print(\"exvute this if for loop is able to complete it self\")"
   ]
  },
  {
   "cell_type": "code",
   "execution_count": 18,
   "id": "1e183e0c-02b9-4592-a207-f12bb4761681",
   "metadata": {},
   "outputs": [
    {
     "data": {
      "text/plain": [
       "range(0, 5)"
      ]
     },
     "execution_count": 18,
     "metadata": {},
     "output_type": "execute_result"
    }
   ],
   "source": [
    "range(5)"
   ]
  },
  {
   "cell_type": "code",
   "execution_count": 19,
   "id": "9ad32c30-c37a-4823-8a82-7ff359095e38",
   "metadata": {},
   "outputs": [
    {
     "data": {
      "text/plain": [
       "[0, 1, 2, 3, 4]"
      ]
     },
     "execution_count": 19,
     "metadata": {},
     "output_type": "execute_result"
    }
   ],
   "source": [
    "list(range(5))"
   ]
  },
  {
   "cell_type": "code",
   "execution_count": 20,
   "id": "14596aa1-5b8a-4925-a343-c1048112d554",
   "metadata": {},
   "outputs": [
    {
     "data": {
      "text/plain": [
       "[0, 1, 2, 3, 4]"
      ]
     },
     "execution_count": 20,
     "metadata": {},
     "output_type": "execute_result"
    }
   ],
   "source": [
    "list(range(0,5,1))"
   ]
  },
  {
   "cell_type": "code",
   "execution_count": 21,
   "id": "38d31da7-32a9-4390-a34d-df981637e210",
   "metadata": {},
   "outputs": [
    {
     "data": {
      "text/plain": [
       "range(0, 20, 2)"
      ]
     },
     "execution_count": 21,
     "metadata": {},
     "output_type": "execute_result"
    }
   ],
   "source": [
    "range(0,20,2)"
   ]
  },
  {
   "cell_type": "code",
   "execution_count": 22,
   "id": "83207f13-692a-4a4b-b0ec-173c38ab52ac",
   "metadata": {},
   "outputs": [
    {
     "data": {
      "text/plain": [
       "[0, 2, 4, 6, 8, 10, 12, 14, 16, 18]"
      ]
     },
     "execution_count": 22,
     "metadata": {},
     "output_type": "execute_result"
    }
   ],
   "source": [
    "list(range(0,20,2))"
   ]
  },
  {
   "cell_type": "code",
   "execution_count": 23,
   "id": "27f3ce0d-b46b-4784-9cb2-60c3e2cb96d5",
   "metadata": {},
   "outputs": [
    {
     "data": {
      "text/plain": [
       "[-10, -9, -8, -7, -6, -5, -4, -3, -2, -1]"
      ]
     },
     "execution_count": 23,
     "metadata": {},
     "output_type": "execute_result"
    }
   ],
   "source": [
    "list(range(-10,0,))"
   ]
  },
  {
   "cell_type": "code",
   "execution_count": 24,
   "id": "22b2021f-3363-4bd7-8107-8830cf1f4076",
   "metadata": {},
   "outputs": [],
   "source": [
    "l1 = [\"shiv\", \"kumar\", \"krish\", \"naik\"]"
   ]
  },
  {
   "cell_type": "code",
   "execution_count": 25,
   "id": "faee7e98-2f76-43f4-b329-42acc956e48a",
   "metadata": {},
   "outputs": [
    {
     "data": {
      "text/plain": [
       "[3, 2, 1, 0]"
      ]
     },
     "execution_count": 25,
     "metadata": {},
     "output_type": "execute_result"
    }
   ],
   "source": [
    "list(range(len(l1)-1,-1,-1)) # use in reverse for loop "
   ]
  },
  {
   "cell_type": "code",
   "execution_count": 26,
   "id": "005ec768-688a-4005-8a03-a912d89f6486",
   "metadata": {},
   "outputs": [
    {
     "name": "stdout",
     "output_type": "stream",
     "text": [
      "shiv\n",
      "kumar\n",
      "krish\n",
      "naik\n"
     ]
    }
   ],
   "source": [
    "for i in range(len(l1)):\n",
    "    print(l1[i])"
   ]
  },
  {
   "cell_type": "code",
   "execution_count": 27,
   "id": "e725ee45-4fe8-4069-82a2-45f99418a2be",
   "metadata": {},
   "outputs": [
    {
     "name": "stdout",
     "output_type": "stream",
     "text": [
      "naik\n",
      "krish\n",
      "kumar\n",
      "shiv\n"
     ]
    }
   ],
   "source": [
    "for i in range(len(l1)-1,-1,-1):\n",
    "               print(l1[i])"
   ]
  },
  {
   "cell_type": "code",
   "execution_count": 28,
   "id": "c30996f5-ed4b-4260-ab11-65e60af0b2f9",
   "metadata": {},
   "outputs": [
    {
     "data": {
      "text/plain": [
       "['shiv', 'kumar', 'krish', 'naik']"
      ]
     },
     "execution_count": 28,
     "metadata": {},
     "output_type": "execute_result"
    }
   ],
   "source": [
    "l1"
   ]
  },
  {
   "cell_type": "code",
   "execution_count": 29,
   "id": "21b9908f-4e98-44df-9238-fc2894bc813c",
   "metadata": {},
   "outputs": [],
   "source": [
    "l2 = [23,5,45,56,6,67,67,78,87,8998,9,9,8]"
   ]
  },
  {
   "cell_type": "code",
   "execution_count": 30,
   "id": "f4afc60a-3c3a-47d4-9a3b-b8f49354e39f",
   "metadata": {},
   "outputs": [
    {
     "data": {
      "text/plain": [
       "[0, 2, 4, 6, 8, 10, 12]"
      ]
     },
     "execution_count": 30,
     "metadata": {},
     "output_type": "execute_result"
    }
   ],
   "source": [
    "list(range(0,len(l2),2))"
   ]
  },
  {
   "cell_type": "code",
   "execution_count": 31,
   "id": "3b25d07a-9732-4fe3-a68c-b3957d633e63",
   "metadata": {},
   "outputs": [
    {
     "name": "stdout",
     "output_type": "stream",
     "text": [
      "23\n",
      "45\n",
      "6\n",
      "67\n",
      "87\n",
      "9\n",
      "8\n"
     ]
    }
   ],
   "source": [
    "for i in range(0,len(l2),2):\n",
    "    print(l2[i])"
   ]
  },
  {
   "cell_type": "code",
   "execution_count": 32,
   "id": "6476abac-b4e8-4407-ac5f-66bb059f4014",
   "metadata": {},
   "outputs": [
    {
     "data": {
      "text/plain": [
       "23"
      ]
     },
     "execution_count": 32,
     "metadata": {},
     "output_type": "execute_result"
    }
   ],
   "source": [
    "l2[0]"
   ]
  },
  {
   "cell_type": "code",
   "execution_count": 33,
   "id": "5f2c3d2d-684b-48d7-bc19-41d2c8c93252",
   "metadata": {},
   "outputs": [],
   "source": [
    "l = [1,2,3,4,5,6,7,8,98]"
   ]
  },
  {
   "cell_type": "code",
   "execution_count": 34,
   "id": "64c8528a-61d7-437e-a284-91d887bd3103",
   "metadata": {},
   "outputs": [
    {
     "data": {
      "text/plain": [
       "134"
      ]
     },
     "execution_count": 34,
     "metadata": {},
     "output_type": "execute_result"
    }
   ],
   "source": [
    "sum(l)"
   ]
  },
  {
   "cell_type": "code",
   "execution_count": 35,
   "id": "69cf482b-baca-454d-b5e2-4ce14c254c8a",
   "metadata": {},
   "outputs": [
    {
     "data": {
      "text/plain": [
       "134"
      ]
     },
     "execution_count": 35,
     "metadata": {},
     "output_type": "execute_result"
    }
   ],
   "source": [
    "result =0\n",
    "for i in l:\n",
    "    result = result+ i\n",
    "result"
   ]
  },
  {
   "cell_type": "code",
   "execution_count": 36,
   "id": "2a7ce63a-cb2f-41a2-bc09-3a2046f07ab1",
   "metadata": {},
   "outputs": [],
   "source": [
    "t =(1,2,3,4,5)"
   ]
  },
  {
   "cell_type": "code",
   "execution_count": 37,
   "id": "775cba02-3aa6-419a-8b0d-dae7321bb546",
   "metadata": {},
   "outputs": [
    {
     "name": "stdout",
     "output_type": "stream",
     "text": [
      "1\n",
      "2\n",
      "3\n",
      "4\n",
      "5\n"
     ]
    }
   ],
   "source": [
    "for i in t:\n",
    "    print(i)"
   ]
  },
  {
   "cell_type": "code",
   "execution_count": 39,
   "id": "07c141e6-aa18-49a4-81e3-54fc32a7f3ba",
   "metadata": {},
   "outputs": [
    {
     "data": {
      "text/plain": [
       "15"
      ]
     },
     "execution_count": 39,
     "metadata": {},
     "output_type": "execute_result"
    }
   ],
   "source": [
    "result = 0\n",
    "for i in t:\n",
    "    result = result+ i\n",
    "result"
   ]
  },
  {
   "cell_type": "code",
   "execution_count": 40,
   "id": "c025a75f-92ea-4cf1-abda-a7f7b4d02606",
   "metadata": {},
   "outputs": [],
   "source": [
    "s = {1,2,3,4,5, \"shiv\", \"pwskills\", True}"
   ]
  },
  {
   "cell_type": "code",
   "execution_count": 43,
   "id": "62f0f3ac-edeb-46d6-8459-7421fd596319",
   "metadata": {},
   "outputs": [
    {
     "name": "stdout",
     "output_type": "stream",
     "text": [
      "pwskills\n",
      "1\n",
      "2\n",
      "3\n",
      "4\n",
      "5\n",
      "shiv\n"
     ]
    }
   ],
   "source": [
    "for i in s:\n",
    "    print(i)"
   ]
  },
  {
   "cell_type": "code",
   "execution_count": 44,
   "id": "cc9fc64b-ce5e-4ad7-9de2-f8398b6b09a2",
   "metadata": {},
   "outputs": [],
   "source": [
    "s1 = \"pwskills\""
   ]
  },
  {
   "cell_type": "code",
   "execution_count": 45,
   "id": "2b4009f3-f668-4d37-949b-fc7172c560d0",
   "metadata": {},
   "outputs": [
    {
     "name": "stdout",
     "output_type": "stream",
     "text": [
      "p\n",
      "w\n",
      "s\n",
      "k\n",
      "i\n",
      "l\n",
      "l\n",
      "s\n"
     ]
    }
   ],
   "source": [
    "for i in s1:\n",
    "    print(i)"
   ]
  },
  {
   "cell_type": "code",
   "execution_count": 46,
   "id": "bcd1f4bd-45f9-484f-9a91-c5362620683a",
   "metadata": {},
   "outputs": [],
   "source": [
    "d = {\"name\":\"shiv\", \"class\":\"data science masters\",\n",
    "     \"topic\" : [\"python\",\"stats\",\"machine learning\",\"deep learning\",\"DL\",\"CV\",\"NLP\",\"resume\",\"interview\"]}"
   ]
  },
  {
   "cell_type": "code",
   "execution_count": 47,
   "id": "51c8620c-46ff-44fa-8e0c-d6a7b6057fa0",
   "metadata": {},
   "outputs": [
    {
     "data": {
      "text/plain": [
       "{'name': 'shiv',\n",
       " 'class': 'data science masters',\n",
       " 'topic': ['python',\n",
       "  'stats',\n",
       "  'machine learning',\n",
       "  'deep learning',\n",
       "  'DL',\n",
       "  'CV',\n",
       "  'NLP',\n",
       "  'resume',\n",
       "  'interview']}"
      ]
     },
     "execution_count": 47,
     "metadata": {},
     "output_type": "execute_result"
    }
   ],
   "source": [
    "d"
   ]
  },
  {
   "cell_type": "code",
   "execution_count": 48,
   "id": "24347f6d-132e-4625-a3dc-1b13737db32c",
   "metadata": {},
   "outputs": [
    {
     "data": {
      "text/plain": [
       "dict_keys(['name', 'class', 'topic'])"
      ]
     },
     "execution_count": 48,
     "metadata": {},
     "output_type": "execute_result"
    }
   ],
   "source": [
    "d.keys()"
   ]
  },
  {
   "cell_type": "code",
   "execution_count": 50,
   "id": "2143d91f-4f2d-4e76-82bf-0f7d2780aeec",
   "metadata": {},
   "outputs": [
    {
     "name": "stdout",
     "output_type": "stream",
     "text": [
      "shiv\n",
      "data science masters\n",
      "['python', 'stats', 'machine learning', 'deep learning', 'DL', 'CV', 'NLP', 'resume', 'interview']\n"
     ]
    }
   ],
   "source": [
    "for i in d.keys():\n",
    "    print(d[i])"
   ]
  },
  {
   "cell_type": "code",
   "execution_count": 51,
   "id": "89e9ee4f-3223-4292-8981-7a2837d3023a",
   "metadata": {},
   "outputs": [
    {
     "data": {
      "text/plain": [
       "dict_values(['shiv', 'data science masters', ['python', 'stats', 'machine learning', 'deep learning', 'DL', 'CV', 'NLP', 'resume', 'interview']])"
      ]
     },
     "execution_count": 51,
     "metadata": {},
     "output_type": "execute_result"
    }
   ],
   "source": [
    "d.values()"
   ]
  },
  {
   "cell_type": "code",
   "execution_count": 53,
   "id": "7faeaa19-2326-448e-ba26-ceff79249cb1",
   "metadata": {},
   "outputs": [
    {
     "name": "stdout",
     "output_type": "stream",
     "text": [
      "shiv\n",
      "data science masters\n",
      "['python', 'stats', 'machine learning', 'deep learning', 'DL', 'CV', 'NLP', 'resume', 'interview']\n"
     ]
    }
   ],
   "source": [
    "for i in d.values():\n",
    "    print(i)"
   ]
  },
  {
   "cell_type": "code",
   "execution_count": 55,
   "id": "631fb659-f2e3-413e-9d2e-8fc8f560d948",
   "metadata": {},
   "outputs": [
    {
     "data": {
      "text/plain": [
       "dict_items([('name', 'shiv'), ('class', 'data science masters'), ('topic', ['python', 'stats', 'machine learning', 'deep learning', 'DL', 'CV', 'NLP', 'resume', 'interview'])])"
      ]
     },
     "execution_count": 55,
     "metadata": {},
     "output_type": "execute_result"
    }
   ],
   "source": [
    "d.items()"
   ]
  },
  {
   "cell_type": "code",
   "execution_count": 57,
   "id": "c6407521-1cb7-46de-ba07-3919d613eb36",
   "metadata": {},
   "outputs": [
    {
     "name": "stdout",
     "output_type": "stream",
     "text": [
      "('name', 'shiv')\n",
      "('class', 'data science masters')\n",
      "('topic', ['python', 'stats', 'machine learning', 'deep learning', 'DL', 'CV', 'NLP', 'resume', 'interview'])\n"
     ]
    }
   ],
   "source": [
    "for i in d.items():\n",
    "    print (i)"
   ]
  },
  {
   "cell_type": "code",
   "execution_count": null,
   "id": "bf1039ab-724d-49ef-bc34-d5f4648bc89a",
   "metadata": {},
   "outputs": [],
   "source": []
  }
 ],
 "metadata": {
  "kernelspec": {
   "display_name": "Python 3 (ipykernel)",
   "language": "python",
   "name": "python3"
  },
  "language_info": {
   "codemirror_mode": {
    "name": "ipython",
    "version": 3
   },
   "file_extension": ".py",
   "mimetype": "text/x-python",
   "name": "python",
   "nbconvert_exporter": "python",
   "pygments_lexer": "ipython3",
   "version": "3.10.8"
  }
 },
 "nbformat": 4,
 "nbformat_minor": 5
}
